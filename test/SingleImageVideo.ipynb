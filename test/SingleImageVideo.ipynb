{
 "cells": [
  {
   "cell_type": "code",
   "execution_count": 1,
   "metadata": {},
   "outputs": [
    {
     "name": "stderr",
     "output_type": "stream",
     "text": [
      "/home/aashi/anaconda3/lib/python3.6/site-packages/h5py/__init__.py:36: FutureWarning: Conversion of the second argument of issubdtype from `float` to `np.floating` is deprecated. In future, it will be treated as `np.float64 == np.dtype(float).type`.\n",
      "  from ._conv import register_converters as _register_converters\n"
     ]
    }
   ],
   "source": [
    "import torch\n",
    "import torchvision.models as models\n",
    "import h5py \n",
    "from logger import Logger\n",
    "from torchvision.transforms import transforms \n",
    "import torch.utils.data as data\n",
    "import numpy as np \n",
    "import pdb\n",
    "import matplotlib.pyplot as plt\n",
    "%matplotlib inline\n",
    "import torch.nn as nn \n",
    "import torch.optim as optim \n",
    "from torch.autograd import Variable\n",
    "import shutil\n",
    "import os \n",
    "import random\n",
    "import torch.nn.functional as F"
   ]
  },
  {
   "cell_type": "code",
   "execution_count": 2,
   "metadata": {},
   "outputs": [],
   "source": [
    "class FrameDataset(data.Dataset):\n",
    "    \n",
    "    def __init__(self, f, transform=None, test = False):\n",
    "        self.f = f \n",
    "        self.transform = transform \n",
    "        self.test = test\n",
    "        \n",
    "    def __getitem__(self, index):\n",
    "\n",
    "        rgb = np.array(self.f[\"rgb\"][index])\n",
    "        label = np.array((self.f[\"labels\"][index] - self.f[\"Mean\"])/self.f[\"Variance\"])\n",
    "        \n",
    "        t_rgb = torch.zeros(3, 224, 224)\n",
    "        \n",
    "        prob = random.uniform(0, 1)\n",
    "        prob2 = random.uniform(0, 1)\n",
    "\n",
    "        if self.transform is not None:\n",
    "            if (prob > 0.5 and not self.test):\n",
    "                flip_transform = transforms.Compose([transforms.ToPILImage(), transforms.RandomHorizontalFlip(1.0)])\n",
    "                rgb[:,:,:] = flip_transform(rgb[:,:,:])\n",
    "            if (prob2 > 0.5 and not self.test):\n",
    "                color_jitter_transform = transforms.Compose([transforms.ToPILImage() ,transforms.ColorJitter(brightness = 0.5, contrast = 0.5, saturation = 0.5, hue = 0.2)])\n",
    "                rgb[:,:,:] = color_jitter_transform(rgb[:,:,:])\n",
    "\n",
    "            t_rgb[:,:,:] = self.transform(rgb[:,:,:])                \n",
    "        \n",
    "        return rgb, t_rgb, label\n",
    "    \n",
    "    def __len__(self):\n",
    "        return len(self.f[\"rgb\"])"
   ]
  },
  {
   "cell_type": "code",
   "execution_count": 3,
   "metadata": {},
   "outputs": [],
   "source": [
    "def load_model_weights(MODEL_PATH):\n",
    "    checkpoint_dict = torch.load(MODEL_PATH)\n",
    "    model.load_state_dict(checkpoint_dict)\n",
    "    \n",
    "def save_model_weights(epoch_num):\n",
    "    model_file = '/mnt/hdd1/aashi/SingleImage6s_' + str(epoch_num).zfill(3)\n",
    "    torch.save(model.state_dict(), model_file)\n",
    "\n",
    "model = models.vgg16(pretrained=True)\n",
    "num_final_in = model.classifier[-1].in_features\n",
    "NUM_CLASSES = 20\n",
    "model.classifier[-1] = nn.Linear(num_final_in, NUM_CLASSES)\n",
    "\n",
    "model_path = '/home/aashi/the_conclusion/model_files/' + 'vgg_on_voc' + str(800)\n",
    "load_model_weights(model_path)\n",
    "\n",
    "model.classifier[-1] = nn.Linear(num_final_in, 1) ## Regressed output\n",
    "num_features = model.classifier[6].in_features\n",
    "features = list(model.classifier.children())[:-1] # Remove last layer\n",
    "features.extend([nn.Linear(num_features, 2048), nn.ReLU(), nn.Linear(2048, 1)]) # Add our layer with 4 outputs\n",
    "model.classifier = nn.Sequential(*features) # Replace the model classifier\n",
    "\n",
    "epoch_num = 47 ## Absolute mean error = 0.3022 \n",
    "MODEL_PATH = '/mnt/hdd1/aashi/SingleImage6s_' + str(epoch_num).zfill(3)\n",
    "load_model_weights(MODEL_PATH)"
   ]
  },
  {
   "cell_type": "code",
   "execution_count": 4,
   "metadata": {},
   "outputs": [
    {
     "name": "stdout",
     "output_type": "stream",
     "text": [
      "VGG(\n",
      "  (features): Sequential(\n",
      "    (0): Conv2d(3, 64, kernel_size=(3, 3), stride=(1, 1), padding=(1, 1))\n",
      "    (1): ReLU(inplace)\n",
      "    (2): Conv2d(64, 64, kernel_size=(3, 3), stride=(1, 1), padding=(1, 1))\n",
      "    (3): ReLU(inplace)\n",
      "    (4): MaxPool2d(kernel_size=2, stride=2, padding=0, dilation=1, ceil_mode=False)\n",
      "    (5): Conv2d(64, 128, kernel_size=(3, 3), stride=(1, 1), padding=(1, 1))\n",
      "    (6): ReLU(inplace)\n",
      "    (7): Conv2d(128, 128, kernel_size=(3, 3), stride=(1, 1), padding=(1, 1))\n",
      "    (8): ReLU(inplace)\n",
      "    (9): MaxPool2d(kernel_size=2, stride=2, padding=0, dilation=1, ceil_mode=False)\n",
      "    (10): Conv2d(128, 256, kernel_size=(3, 3), stride=(1, 1), padding=(1, 1))\n",
      "    (11): ReLU(inplace)\n",
      "    (12): Conv2d(256, 256, kernel_size=(3, 3), stride=(1, 1), padding=(1, 1))\n",
      "    (13): ReLU(inplace)\n",
      "    (14): Conv2d(256, 256, kernel_size=(3, 3), stride=(1, 1), padding=(1, 1))\n",
      "    (15): ReLU(inplace)\n",
      "    (16): MaxPool2d(kernel_size=2, stride=2, padding=0, dilation=1, ceil_mode=False)\n",
      "    (17): Conv2d(256, 512, kernel_size=(3, 3), stride=(1, 1), padding=(1, 1))\n",
      "    (18): ReLU(inplace)\n",
      "    (19): Conv2d(512, 512, kernel_size=(3, 3), stride=(1, 1), padding=(1, 1))\n",
      "    (20): ReLU(inplace)\n",
      "    (21): Conv2d(512, 512, kernel_size=(3, 3), stride=(1, 1), padding=(1, 1))\n",
      "    (22): ReLU(inplace)\n",
      "    (23): MaxPool2d(kernel_size=2, stride=2, padding=0, dilation=1, ceil_mode=False)\n",
      "    (24): Conv2d(512, 512, kernel_size=(3, 3), stride=(1, 1), padding=(1, 1))\n",
      "    (25): ReLU(inplace)\n",
      "    (26): Conv2d(512, 512, kernel_size=(3, 3), stride=(1, 1), padding=(1, 1))\n",
      "    (27): ReLU(inplace)\n",
      "    (28): Conv2d(512, 512, kernel_size=(3, 3), stride=(1, 1), padding=(1, 1))\n",
      "    (29): ReLU(inplace)\n",
      "    (30): MaxPool2d(kernel_size=2, stride=2, padding=0, dilation=1, ceil_mode=False)\n",
      "  )\n",
      "  (classifier): Sequential(\n",
      "    (0): Linear(in_features=25088, out_features=4096, bias=True)\n",
      "    (1): ReLU(inplace)\n",
      "    (2): Dropout(p=0.5)\n",
      "    (3): Linear(in_features=4096, out_features=4096, bias=True)\n",
      "    (4): ReLU(inplace)\n",
      "    (5): Dropout(p=0.5)\n",
      "    (6): Linear(in_features=4096, out_features=2048, bias=True)\n",
      "    (7): ReLU()\n",
      "    (8): Linear(in_features=2048, out_features=1, bias=True)\n",
      "  )\n",
      ")\n"
     ]
    }
   ],
   "source": [
    "print(model)"
   ]
  },
  {
   "cell_type": "code",
   "execution_count": 5,
   "metadata": {},
   "outputs": [],
   "source": [
    "model = model.cuda()\n",
    "hfp_test = h5py.File('/mnt/hdd1/aashi/cmu_data/SingleImageTest.h5', 'r')\n",
    "mean = hfp_test[\"Mean\"][()]\n",
    "var = hfp_test[\"Variance\"][()]\n",
    "normalize = transforms.Normalize(mean=[0.485, 0.456, 0.406], std=[0.229, 0.224, 0.225])\n",
    "test_loader = data.DataLoader(FrameDataset(f = hfp_test, transform = transforms.Compose([transforms.ToTensor(), normalize]), test = True), \n",
    "                               batch_size=1)"
   ]
  },
  {
   "cell_type": "code",
   "execution_count": 6,
   "metadata": {},
   "outputs": [
    {
     "data": {
      "image/png": "[encoded data removed]",
      "text/plain": [
       "<Figure size 432x288 with 2 Axes>"
      ]
     },
     "metadata": {},
     "output_type": "display_data"
    }
   ],
   "source": [
    "import cv2\n",
    "model.eval()\n",
    "n = []\n",
    "i = 0\n",
    "prediction = []\n",
    "groundTruth = []\n",
    "\n",
    "ax1 = plt.axes()\n",
    "ax2 = plt.axes([0.85, 0.15, 0.5, 0.65])\n",
    "\n",
    "err = []\n",
    "\n",
    "for iter, (img, rgb, label) in enumerate(test_loader, 0):\n",
    "    rgb = rgb.float().cuda()\n",
    "    label = label.float().cuda()\n",
    "    label = label.unsqueeze(-1)\n",
    "    outputs = model(rgb)\n",
    "    \n",
    "    pred = outputs[0].data.cpu().numpy()*var + mean \n",
    "    gt = label[0].data.cpu().numpy()*var + mean \n",
    "    \n",
    "    if (gt < 4.0):\n",
    "        continue\n",
    "    \n",
    "    err.append(abs(pred[0] - gt[0]))\n",
    "    \n",
    "    pred = round(pred[0], 2)\n",
    "    gt = round(gt[0], 2)\n",
    "    \n",
    "#     n.append(i)\n",
    "#     prediction.append(pred)\n",
    "#     groundTruth.append(gt)\n",
    "    \n",
    "#     prediction = prediction[-30:]\n",
    "#     groundTruth = groundTruth[-30:]\n",
    "#     n = n[-30:]\n",
    "    \n",
    "#     ax1.imshow(img[0,:,:,:])\n",
    "#     ax2.clear()\n",
    "#     ax2.set_ylim(0, 8)\n",
    "\n",
    "#     ax2.set_ylabel('time to proximity (in sec)', fontsize='medium')\n",
    "#     ax2.set_xlabel('Current frame', fontsize='medium')\n",
    "#     ax2.plot(n, prediction, 'b', label='Predicted time')\n",
    "#     ax2.plot(n, groundTruth, 'r', label = 'Ground Truth')\n",
    "#     ax2.legend(loc='upper center', shadow=True, fontsize='medium')    \n",
    "    \n",
    "# #     pdb.set_trace()\n",
    "#     plt.savefig('SingleImageVideo/' + str(i) + '.png',bbox_inches='tight')\n",
    "#     i = i+1\n",
    "#     print(i)"
   ]
  },
  {
   "cell_type": "code",
   "execution_count": 7,
   "metadata": {},
   "outputs": [
    {
     "data": {
      "text/plain": [
       "134"
      ]
     },
     "execution_count": 7,
     "metadata": {},
     "output_type": "execute_result"
    }
   ],
   "source": [
    "len(err)"
   ]
  },
  {
   "cell_type": "code",
   "execution_count": 8,
   "metadata": {},
   "outputs": [
    {
     "data": {
      "text/plain": [
       "1.8487451"
      ]
     },
     "execution_count": 8,
     "metadata": {},
     "output_type": "execute_result"
    }
   ],
   "source": [
    "np.mean(err)"
   ]
  },
  {
   "cell_type": "code",
   "execution_count": 9,
   "metadata": {},
   "outputs": [
    {
     "data": {
      "text/plain": [
       "0.843701"
      ]
     },
     "execution_count": 9,
     "metadata": {},
     "output_type": "execute_result"
    }
   ],
   "source": [
    "np.std(err)"
   ]
  },
  {
   "cell_type": "code",
   "execution_count": null,
   "metadata": {},
   "outputs": [],
   "source": []
  }
 ],
 "metadata": {
  "kernelspec": {
   "display_name": "Python 3",
   "language": "python",
   "name": "python3"
  },
  "language_info": {
   "codemirror_mode": {
    "name": "ipython",
    "version": 3
   },
   "file_extension": ".py",
   "mimetype": "text/x-python",
   "name": "python",
   "nbconvert_exporter": "python",
   "pygments_lexer": "ipython3",
   "version": "3.6.5"
  }
 },
 "nbformat": 4,
 "nbformat_minor": 2
}
