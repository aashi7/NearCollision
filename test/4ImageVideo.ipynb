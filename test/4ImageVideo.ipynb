{
 "cells": [
  {
   "cell_type": "code",
   "execution_count": 2,
   "metadata": {},
   "outputs": [
    {
     "name": "stderr",
     "output_type": "stream",
     "text": [
      "/home/aashi/anaconda3/lib/python3.6/site-packages/h5py/__init__.py:36: FutureWarning: Conversion of the second argument of issubdtype from `float` to `np.floating` is deprecated. In future, it will be treated as `np.float64 == np.dtype(float).type`.\n",
      "  from ._conv import register_converters as _register_converters\n"
     ]
    }
   ],
   "source": [
    "import torch\n",
    "import torchvision.models as models\n",
    "import h5py \n",
    "from logger import Logger\n",
    "from torchvision.transforms import transforms \n",
    "import torch.utils.data as data\n",
    "import numpy as np \n",
    "import pdb\n",
    "import matplotlib.pyplot as plt\n",
    "%matplotlib inline\n",
    "import torch.nn as nn \n",
    "import torch.optim as optim \n",
    "from torch.autograd import Variable\n",
    "import shutil\n",
    "import os \n",
    "import random\n",
    "import torch.nn.functional as F"
   ]
  },
  {
   "cell_type": "code",
   "execution_count": 2,
   "metadata": {},
   "outputs": [],
   "source": [
    "class FrameDataset(data.Dataset):\n",
    "    \n",
    "    def __init__(self, f, transform=None, test = False):\n",
    "        self.f = f \n",
    "        self.transform = transform \n",
    "        self.test = test\n",
    "        \n",
    "    def __getitem__(self, index):\n",
    "#         if (not self.test):\n",
    "#             rgb = np.array(self.f[\"rgb\"][index])\n",
    "# #             label = np.array((self.f[\"labels\"][index] - self.f[\"Mean\"])/self.f[\"Variance\"])\n",
    "#             label = np.array((self.f[\"labels\"][index] - self.f[\"Mean\"]))\n",
    "#         else:\n",
    "        rgb = np.array(self.f[\"rgb\"][index])\n",
    "#         label = np.array((self.f[\"labels\"][index] - self.f[\"Mean\"])/self.f[\"Variance\"])\n",
    "        label = np.array((self.f[\"labels\"][index] - self.f[\"Mean\"])) ## same mean through train, test \n",
    "        \n",
    "        t_rgb = torch.zeros(rgb.shape[0], 3, 224, 224)\n",
    "        \n",
    "        prob = random.uniform(0, 1)\n",
    "#         prob2 = random.uniform(0, 1)\n",
    "\n",
    "        if self.transform is not None:\n",
    "            for i in range(rgb.shape[0]):\n",
    "                if (prob > 0.5 and not self.test):\n",
    "                    flip_transform = transforms.Compose([transforms.ToPILImage(), transforms.RandomHorizontalFlip(1.0)])\n",
    "                    rgb[i,:,:,:] = flip_transform(rgb[i,:,:,:])\n",
    "                t_rgb[i,:,:,:] = self.transform(rgb[i,:,:,:])\n",
    "\n",
    "                \n",
    "        return rgb, t_rgb, label\n",
    "    \n",
    "    def __len__(self):\n",
    "        return len(self.f[\"rgb\"])"
   ]
  },
  {
   "cell_type": "code",
   "execution_count": 3,
   "metadata": {},
   "outputs": [],
   "source": [
    "def load_vgg_voc_weights(MODEL_PATH):\n",
    "    checkpoint_dict = torch.load(MODEL_PATH)\n",
    "    vgg_model.load_state_dict(checkpoint_dict)\n",
    "\n",
    "vgg_model = models.vgg16(pretrained=True)\n",
    "num_final_in = vgg_model.classifier[-1].in_features\n",
    "NUM_CLASSES = 20 ## in VOC\n",
    "vgg_model.classifier[-1] = nn.Linear(num_final_in, NUM_CLASSES)\n",
    "model_path = '/home/aashi/the_conclusion/model_files/' + 'vgg_on_voc' + str(800)\n",
    "load_vgg_voc_weights(model_path)\n",
    "# Why do I need to load vgg voc weights here "
   ]
  },
  {
   "cell_type": "code",
   "execution_count": 4,
   "metadata": {},
   "outputs": [],
   "source": [
    "class VGGNet(nn.Module):\n",
    "    \n",
    "    def __init__(self):\n",
    "        super(VGGNet, self).__init__()\n",
    "        self.rgb_net = self.get_vgg_features()\n",
    "        \n",
    "        kernel_size = 3 \n",
    "        padding = int((kernel_size - 1)/2)\n",
    "        self.conv_layer = nn.Conv2d(512, 16, kernel_size, 1, padding, bias=True)\n",
    "        #self.conv_bn = nn.BatchNorm2d(16)\n",
    "        ## input_channels, output_channels, kernel_size, stride, padding, bias\n",
    "        self.feature_size = 16*7*7*3\n",
    "        self.final_layer = nn.Sequential(\n",
    "        nn.ReLU(),\n",
    "        nn.Linear(self.feature_size, 2048),\n",
    "        nn.ReLU(),\n",
    "        nn.Dropout(),\n",
    "        nn.Linear(2048, 1)\n",
    "        #nn.Sigmoid()\n",
    "        #nn.Softmax()  ## If loss function uses Softmax  \n",
    "        )\n",
    "        \n",
    "    def forward(self, rgb): ## sequence of four images - last index is latest \n",
    "        four_imgs = []\n",
    "        for i in range(rgb.shape[1]):\n",
    "            img_features = self.rgb_net(rgb[:,i,:,:,:])\n",
    "            channels_reduced = self.conv_layer(img_features)\n",
    "            img_features = channels_reduced.view((-1, 16*7*7))\n",
    "            four_imgs.append(img_features)\n",
    "        concat_output = torch.cat(four_imgs, dim = 1)\n",
    "        out = self.final_layer(concat_output)\n",
    "        return out\n",
    "#         return concat_output\n",
    "        \n",
    "    def get_vgg_features(self):\n",
    "\n",
    "        modules = list(vgg_model.children())[:-1]\n",
    "        vgg16 = nn.Sequential(*modules)\n",
    "        \n",
    "        ## Uncommented this to let it fine-tune on my model \n",
    "        # for p in vgg16.parameters():\n",
    "        #     p.requires_grad = False \n",
    "        \n",
    "        return vgg16.type(torch.Tensor)"
   ]
  },
  {
   "cell_type": "code",
   "execution_count": 5,
   "metadata": {},
   "outputs": [
    {
     "name": "stdout",
     "output_type": "stream",
     "text": [
      "0.70131505\n",
      "0.62287974\n"
     ]
    },
    {
     "data": {
      "image/png": "[encoded data removed]",
      "text/plain": [
       "<Figure size 432x288 with 2 Axes>"
      ]
     },
     "metadata": {},
     "output_type": "display_data"
    }
   ],
   "source": [
    "model = VGGNet().cuda()\n",
    "\n",
    "def load_model_weights(MODEL_PATH):\n",
    "    checkpoint_dict = torch.load(MODEL_PATH)\n",
    "    model.load_state_dict(checkpoint_dict)\n",
    "    \n",
    "hfp_test = h5py.File('/mnt/hdd1/aashi/cmu_data/3ImageTest.h5', 'r')\n",
    "mean = hfp_test[\"Mean\"][()]\n",
    "var = hfp_test[\"Variance\"][()]\n",
    "normalize = transforms.Normalize(mean=[0.485, 0.456, 0.406], std=[0.229, 0.224, 0.225])\n",
    "test_loader = data.DataLoader(FrameDataset(f = hfp_test, transform = transforms.Compose([transforms.ToTensor(), normalize]), test = True), \n",
    "                               batch_size=1)\n",
    "#epoch_num = 4 ## Absolute mean error = 0.2584 (4 frames) vs 0.3022 (Single Image)\n",
    "#epoch_num = 27 ## Absolute mean error = 0.753\n",
    "# epoch_num = 10 ## 9 frames, Absolute error = 0.8169 \n",
    "\n",
    "# epoch_num = 32 \n",
    "# MODEL_PATH = '/mnt/hdd1/aashi/2Image6s_' + str(epoch_num).zfill(3)\n",
    "\n",
    "epoch_num = 3\n",
    "MODEL_PATH = '/mnt/hdd1/aashi/3Image6s_' + str(epoch_num).zfill(3)\n",
    "\n",
    "# epoch_num = 4\n",
    "# MODEL_PATH = '/mnt/hdd1/aashi/4Image6s_' + str(epoch_num).zfill(3)\n",
    "\n",
    "# epoch_num = 27\n",
    "# MODEL_PATH = '/mnt/hdd1/aashi/6Image6s_' + str(epoch_num).zfill(3)\n",
    "\n",
    "load_model_weights(MODEL_PATH)\n",
    "\n",
    "model.eval()\n",
    "n = []\n",
    "i = 0\n",
    "prediction = []\n",
    "groundTruth = []\n",
    "\n",
    "ax1 = plt.axes()\n",
    "ax2 = plt.axes([0.85, 0.15, 0.5, 0.65])\n",
    "\n",
    "err = []\n",
    "predictions = []\n",
    "\n",
    "import timeit \n",
    "start = timeit.timeit()\n",
    "for iter, (img, rgb, label) in enumerate(test_loader, 0):\n",
    "    \n",
    "    \n",
    "    rgb = rgb.float().cuda()\n",
    "    label = label.float().cuda()\n",
    "    label = label.unsqueeze(-1)\n",
    "    outputs = model(rgb)\n",
    "#     end = timeit.timeit()\n",
    "#     print(end - start)\n",
    "#     pdb.set_trace()\n",
    "\n",
    "    gt = label[0].data.cpu().numpy() + mean \n",
    "    pred = outputs[0].data.cpu().numpy() + mean \n",
    "\n",
    "#     if (pred[0] < 4.0):         ## see between 4-6 seconds, 3 is also close to mean  \n",
    "#         continue\n",
    "\n",
    "    \n",
    "    predictions.append(pred)\n",
    "    \n",
    "\n",
    "#     pred = outputs[0].data.cpu().numpy() + mean \n",
    "#     gt = label[0].data.cpu().numpy() + mean \n",
    "#     pred = mean\n",
    "    \n",
    "    err.append(abs(pred[0] - gt[0]))\n",
    "    \n",
    "#     err.append(abs(pred - gt[0]))\n",
    "    \n",
    "#     pred = round(pred[0], 2)\n",
    "#     gt = round(gt[0], 2)\n",
    "    \n",
    "#     n.append(i)\n",
    "#     prediction.append(pred)\n",
    "#     groundTruth.append(gt)\n",
    "    \n",
    "#     prediction = prediction[-30:]\n",
    "#     groundTruth = groundTruth[-30:]\n",
    "#     n = n[-30:]\n",
    "\n",
    "#     ax1.imshow(img[0,-1,:,:,:]) ## current frame \n",
    "#     ax2.clear()\n",
    "#     ax2.set_ylim(0, 8)\n",
    "\n",
    "#     ax2.set_ylabel('time to proximity (in sec)', fontsize='medium')\n",
    "#     ax2.set_xlabel('Current frame', fontsize='medium')\n",
    "#     ax2.plot(n, prediction, 'b', label='Predicted time')\n",
    "#     ax2.plot(n, groundTruth, 'r', label = 'Ground Truth')\n",
    "#     ax2.legend(loc='upper center', shadow=True, fontsize='medium')    \n",
    "    \n",
    "\n",
    "#     plt.savefig('6ImageVideo/' + str(i) + '.png',bbox_inches='tight')\n",
    "#     i = i+1\n",
    "#     print(i)\n",
    "    \n",
    "print(np.mean(err))\n",
    "print(np.std(err))"
   ]
  },
  {
   "cell_type": "code",
   "execution_count": 6,
   "metadata": {},
   "outputs": [],
   "source": [
    "# predictions"
   ]
  },
  {
   "cell_type": "code",
   "execution_count": 7,
   "metadata": {},
   "outputs": [],
   "source": [
    "# np.max(predictions)"
   ]
  },
  {
   "cell_type": "code",
   "execution_count": 8,
   "metadata": {},
   "outputs": [],
   "source": [
    "# len(predictions)"
   ]
  },
  {
   "cell_type": "code",
   "execution_count": 9,
   "metadata": {},
   "outputs": [],
   "source": [
    "# np.std(predictions)"
   ]
  },
  {
   "cell_type": "code",
   "execution_count": 3,
   "metadata": {},
   "outputs": [],
   "source": [
    "hfp_test = h5py.File('/mnt/hdd1/aashi/cmu_data/6ImageTest.h5', 'r')\n",
    "mean = hfp_test[\"Mean\"][()]\n",
    "var = hfp_test[\"Variance\"][()]"
   ]
  },
  {
   "cell_type": "code",
   "execution_count": 4,
   "metadata": {},
   "outputs": [
    {
     "data": {
      "text/plain": [
       "2.2997543581616484"
      ]
     },
     "execution_count": 4,
     "metadata": {},
     "output_type": "execute_result"
    }
   ],
   "source": [
    "mean"
   ]
  },
  {
   "cell_type": "code",
   "execution_count": 5,
   "metadata": {},
   "outputs": [
    {
     "data": {
      "text/plain": [
       "2.9830609539231623"
      ]
     },
     "execution_count": 5,
     "metadata": {},
     "output_type": "execute_result"
    }
   ],
   "source": [
    "var"
   ]
  },
  {
   "cell_type": "code",
   "execution_count": null,
   "metadata": {},
   "outputs": [],
   "source": []
  }
 ],
 "metadata": {
  "kernelspec": {
   "display_name": "Python 3",
   "language": "python",
   "name": "python3"
  },
  "language_info": {
   "codemirror_mode": {
    "name": "ipython",
    "version": 3
   },
   "file_extension": ".py",
   "mimetype": "text/x-python",
   "name": "python",
   "nbconvert_exporter": "python",
   "pygments_lexer": "ipython3",
   "version": "3.6.5"
  }
 },
 "nbformat": 4,
 "nbformat_minor": 2
}
